{
  "nbformat": 4,
  "nbformat_minor": 0,
  "metadata": {
    "colab": {
      "provenance": [],
      "authorship_tag": "ABX9TyN3275im2ErOux0LVRXIIJX",
      "include_colab_link": true
    },
    "kernelspec": {
      "name": "python3",
      "display_name": "Python 3"
    },
    "language_info": {
      "name": "python"
    }
  },
  "cells": [
    {
      "cell_type": "markdown",
      "metadata": {
        "id": "view-in-github",
        "colab_type": "text"
      },
      "source": [
        "<a href=\"https://colab.research.google.com/github/utquarsh027/imdb_web_scrapping/blob/main/imdb_web_scrapping.ipynb\" target=\"_parent\"><img src=\"https://colab.research.google.com/assets/colab-badge.svg\" alt=\"Open In Colab\"/></a>"
      ]
    },
    {
      "cell_type": "code",
      "execution_count": 1,
      "metadata": {
        "id": "_hAyoLplQWr6"
      },
      "outputs": [],
      "source": [
        "from requests import get\n",
        "from bs4 import BeautifulSoup\n",
        "from warnings import warn\n",
        "from time import sleep\n",
        "from random import randint\n",
        "import numpy as np, pandas as pd\n",
        "import seaborn as sns"
      ]
    },
    {
      "cell_type": "code",
      "source": [
        "# Note this takes about 40 min to run if np.arange is set to 9951 as the stopping point.\n",
        "\n",
        "pages = np.arange(1, 1250, 50) # Last time I tried, I could only go to 10000 items because after that the URI has no discernable pattern to combat webcrawlers; I just did 4 pages for demonstration purposes. You can increase this for your own projects.\n",
        "headers = {'Accept-Language': 'en-US,en;q=0.8'} # If this is not specified, the default language is Mandarin\n",
        "\n",
        "#initialize empty lists to store the variables scraped\n",
        "titles = []\n",
        "years = []\n",
        "ratings = []\n",
        "genres = []\n",
        "runtimes = []\n",
        "imdb_ratings = []\n",
        "imdb_ratings_standardized = []\n",
        "metascores = []\n",
        "votes = []\n",
        "\n",
        "for page in pages:\n",
        "  \n",
        "   #get request for sci-fi\n",
        "   response = get(\"https://www.imdb.com/search/title?genres=sci-fi&\"\n",
        "                  + \"start=\"\n",
        "                  + str(page)\n",
        "                  + \"&explore=title_type,genres&ref_=adv_prv\", headers=headers)\n",
        "  \n",
        "   sleep(randint(8,15))\n",
        "   \n",
        "   #throw warning for status codes that are not 200\n",
        "   if response.status_code != 200:\n",
        "       warn('Request: {}; Status code: {}'.format(requests, response.status_code))\n",
        "\n",
        "   #parse the content of current iteration of request\n",
        "   page_html = BeautifulSoup(response.text, 'html.parser')\n",
        "      \n",
        "   movie_containers = page_html.find_all('div', class_ = 'lister-item mode-advanced')\n",
        "  \n",
        "   #extract the 50 movies for that page\n",
        "   for container in movie_containers:\n",
        "\n",
        "       #conditional for all with metascore\n",
        "       if container.find('div', class_ = 'ratings-metascore') is not None:\n",
        "\n",
        "           #title\n",
        "           title = container.h3.a.text\n",
        "           titles.append(title)\n",
        "\n",
        "           if container.h3.find('span', class_= 'lister-item-year text-muted unbold') is not None:\n",
        "            \n",
        "             #year released\n",
        "             year = container.h3.find('span', class_= 'lister-item-year text-muted unbold').text # remove the parentheses around the year and make it an integer\n",
        "             years.append(year)\n",
        "\n",
        "           else:\n",
        "             years.append(None) # each of the additional if clauses are to handle type None data, replacing it with an empty string so the arrays are of the same length at the end of the scraping\n",
        "\n",
        "           if container.p.find('span', class_ = 'certificate') is not None:\n",
        "            \n",
        "             #rating\n",
        "             rating = container.p.find('span', class_= 'certificate').text\n",
        "             ratings.append(rating)\n",
        "\n",
        "           else:\n",
        "             ratings.append(\"\")\n",
        "\n",
        "           if container.p.find('span', class_ = 'genre') is not None:\n",
        "            \n",
        "             #genre\n",
        "             genre = container.p.find('span', class_ = 'genre').text.replace(\"\\n\", \"\").rstrip().split(',') # remove the whitespace character, strip, and split to create an array of genres\n",
        "             genres.append(genre)\n",
        "          \n",
        "           else:\n",
        "             genres.append(\"\")\n",
        "\n",
        "           if container.p.find('span', class_ = 'runtime') is not None:\n",
        "\n",
        "             #runtime\n",
        "             time = int(container.p.find('span', class_ = 'runtime').text.replace(\" min\", \"\")) # remove the minute word from the runtime and make it an integer\n",
        "             runtimes.append(time)\n",
        "\n",
        "           else:\n",
        "             runtimes.append(None)\n",
        "\n",
        "           if float(container.strong.text) is not None:\n",
        "\n",
        "             #IMDB ratings\n",
        "             imdb = float(container.strong.text) # non-standardized variable\n",
        "             imdb_ratings.append(imdb)\n",
        "\n",
        "           else:\n",
        "             imdb_ratings.append(None)\n",
        "\n",
        "           if container.find('span', class_ = 'metascore').text is not None:\n",
        "\n",
        "             #Metascore\n",
        "             m_score = int(container.find('span', class_ = 'metascore').text) # make it an integer\n",
        "             metascores.append(m_score)\n",
        "\n",
        "           else:\n",
        "             metascores.append(None)\n",
        "\n",
        "           if container.find('span', attrs = {'name':'nv'})['data-value'] is not None:\n",
        "\n",
        "             #Number of votes\n",
        "             vote = int(container.find('span', attrs = {'name':'nv'})['data-value'])\n",
        "             votes.append(vote)\n",
        "\n",
        "           else:\n",
        "               votes.append(None)\n",
        "       else:\n",
        "          votes.append(None)"
      ],
      "metadata": {
        "id": "CSn2q8f7QiCl"
      },
      "execution_count": 2,
      "outputs": []
    },
    {
      "cell_type": "code",
      "source": [
        "sci_fi_df=pd.DataFrame({'movie':titles,\n",
        "                        'year':years,\n",
        "                        'rating':ratings,\n",
        "                        'genre':genres,\n",
        "                        'runtime_min':runtimes,\n",
        "                        'imdb':imdb_ratings,\n",
        "                        'metascore':metascores\n",
        "                        }\n",
        "                       )\n",
        "sci_fi_df.loc[:,'year']=sci_fi_df['year'].str[-5:-1]\n",
        "sci_fi_df['n_imdb']=sci_fi_df['imdb']*10\n",
        "final_df=sci_fi_df.loc[sci_fi_df['year']!='ovie']\n",
        "final_df['year'].apply(pd.to_numeric)"
      ],
      "metadata": {
        "colab": {
          "base_uri": "https://localhost:8080/"
        },
        "id": "bqxF-nQhR1dg",
        "outputId": "3d7172ce-edce-42c9-ae68-f0ef83cf6d95"
      },
      "execution_count": 19,
      "outputs": [
        {
          "output_type": "execute_result",
          "data": {
            "text/plain": [
              "0      2022\n",
              "1      2022\n",
              "2      2022\n",
              "3      2022\n",
              "4      2009\n",
              "       ... \n",
              "731    1996\n",
              "732    2005\n",
              "733    1960\n",
              "734    2012\n",
              "735    1986\n",
              "Name: year, Length: 735, dtype: int64"
            ]
          },
          "metadata": {},
          "execution_count": 19
        }
      ]
    },
    {
      "cell_type": "markdown",
      "source": [
        "# Exploratory Data Analysis"
      ],
      "metadata": {
        "id": "Z7KBxlBFaG5q"
      }
    },
    {
      "cell_type": "code",
      "source": [
        "final_df.head()"
      ],
      "metadata": {
        "colab": {
          "base_uri": "https://localhost:8080/",
          "height": 206
        },
        "id": "ZcU3-da1aSn4",
        "outputId": "a2305cb6-ee57-4474-e958-7519f3e00288"
      },
      "execution_count": 21,
      "outputs": [
        {
          "output_type": "execute_result",
          "data": {
            "text/plain": [
              "                     movie  year rating                             genre  \\\n",
              "0             The Munsters  2022     PG       [Comedy,  Family,  Fantasy]   \n",
              "1                   Vesper  2022             [Adventure,  Drama,  Sci-Fi]   \n",
              "2   Thor: Love and Thunder  2022  PG-13     [Action,  Adventure,  Comedy]   \n",
              "3  DC League of Super-Pets  2022     PG  [Animation,  Action,  Adventure]   \n",
              "4                   Avatar  2009  PG-13    [Action,  Adventure,  Fantasy]   \n",
              "\n",
              "   runtime_min  imdb  metascore  n_imdb  \n",
              "0          109   4.6         57    46.0  \n",
              "1          114   6.1         70    61.0  \n",
              "2          118   6.4         57    64.0  \n",
              "3          105   7.3         56    73.0  \n",
              "4          162   7.8         83    78.0  "
            ],
            "text/html": [
              "\n",
              "  <div id=\"df-a3f16697-6c56-48f3-8cfd-7835c0a5e3e1\">\n",
              "    <div class=\"colab-df-container\">\n",
              "      <div>\n",
              "<style scoped>\n",
              "    .dataframe tbody tr th:only-of-type {\n",
              "        vertical-align: middle;\n",
              "    }\n",
              "\n",
              "    .dataframe tbody tr th {\n",
              "        vertical-align: top;\n",
              "    }\n",
              "\n",
              "    .dataframe thead th {\n",
              "        text-align: right;\n",
              "    }\n",
              "</style>\n",
              "<table border=\"1\" class=\"dataframe\">\n",
              "  <thead>\n",
              "    <tr style=\"text-align: right;\">\n",
              "      <th></th>\n",
              "      <th>movie</th>\n",
              "      <th>year</th>\n",
              "      <th>rating</th>\n",
              "      <th>genre</th>\n",
              "      <th>runtime_min</th>\n",
              "      <th>imdb</th>\n",
              "      <th>metascore</th>\n",
              "      <th>n_imdb</th>\n",
              "    </tr>\n",
              "  </thead>\n",
              "  <tbody>\n",
              "    <tr>\n",
              "      <th>0</th>\n",
              "      <td>The Munsters</td>\n",
              "      <td>2022</td>\n",
              "      <td>PG</td>\n",
              "      <td>[Comedy,  Family,  Fantasy]</td>\n",
              "      <td>109</td>\n",
              "      <td>4.6</td>\n",
              "      <td>57</td>\n",
              "      <td>46.0</td>\n",
              "    </tr>\n",
              "    <tr>\n",
              "      <th>1</th>\n",
              "      <td>Vesper</td>\n",
              "      <td>2022</td>\n",
              "      <td></td>\n",
              "      <td>[Adventure,  Drama,  Sci-Fi]</td>\n",
              "      <td>114</td>\n",
              "      <td>6.1</td>\n",
              "      <td>70</td>\n",
              "      <td>61.0</td>\n",
              "    </tr>\n",
              "    <tr>\n",
              "      <th>2</th>\n",
              "      <td>Thor: Love and Thunder</td>\n",
              "      <td>2022</td>\n",
              "      <td>PG-13</td>\n",
              "      <td>[Action,  Adventure,  Comedy]</td>\n",
              "      <td>118</td>\n",
              "      <td>6.4</td>\n",
              "      <td>57</td>\n",
              "      <td>64.0</td>\n",
              "    </tr>\n",
              "    <tr>\n",
              "      <th>3</th>\n",
              "      <td>DC League of Super-Pets</td>\n",
              "      <td>2022</td>\n",
              "      <td>PG</td>\n",
              "      <td>[Animation,  Action,  Adventure]</td>\n",
              "      <td>105</td>\n",
              "      <td>7.3</td>\n",
              "      <td>56</td>\n",
              "      <td>73.0</td>\n",
              "    </tr>\n",
              "    <tr>\n",
              "      <th>4</th>\n",
              "      <td>Avatar</td>\n",
              "      <td>2009</td>\n",
              "      <td>PG-13</td>\n",
              "      <td>[Action,  Adventure,  Fantasy]</td>\n",
              "      <td>162</td>\n",
              "      <td>7.8</td>\n",
              "      <td>83</td>\n",
              "      <td>78.0</td>\n",
              "    </tr>\n",
              "  </tbody>\n",
              "</table>\n",
              "</div>\n",
              "      <button class=\"colab-df-convert\" onclick=\"convertToInteractive('df-a3f16697-6c56-48f3-8cfd-7835c0a5e3e1')\"\n",
              "              title=\"Convert this dataframe to an interactive table.\"\n",
              "              style=\"display:none;\">\n",
              "        \n",
              "  <svg xmlns=\"http://www.w3.org/2000/svg\" height=\"24px\"viewBox=\"0 0 24 24\"\n",
              "       width=\"24px\">\n",
              "    <path d=\"M0 0h24v24H0V0z\" fill=\"none\"/>\n",
              "    <path d=\"M18.56 5.44l.94 2.06.94-2.06 2.06-.94-2.06-.94-.94-2.06-.94 2.06-2.06.94zm-11 1L8.5 8.5l.94-2.06 2.06-.94-2.06-.94L8.5 2.5l-.94 2.06-2.06.94zm10 10l.94 2.06.94-2.06 2.06-.94-2.06-.94-.94-2.06-.94 2.06-2.06.94z\"/><path d=\"M17.41 7.96l-1.37-1.37c-.4-.4-.92-.59-1.43-.59-.52 0-1.04.2-1.43.59L10.3 9.45l-7.72 7.72c-.78.78-.78 2.05 0 2.83L4 21.41c.39.39.9.59 1.41.59.51 0 1.02-.2 1.41-.59l7.78-7.78 2.81-2.81c.8-.78.8-2.07 0-2.86zM5.41 20L4 18.59l7.72-7.72 1.47 1.35L5.41 20z\"/>\n",
              "  </svg>\n",
              "      </button>\n",
              "      \n",
              "  <style>\n",
              "    .colab-df-container {\n",
              "      display:flex;\n",
              "      flex-wrap:wrap;\n",
              "      gap: 12px;\n",
              "    }\n",
              "\n",
              "    .colab-df-convert {\n",
              "      background-color: #E8F0FE;\n",
              "      border: none;\n",
              "      border-radius: 50%;\n",
              "      cursor: pointer;\n",
              "      display: none;\n",
              "      fill: #1967D2;\n",
              "      height: 32px;\n",
              "      padding: 0 0 0 0;\n",
              "      width: 32px;\n",
              "    }\n",
              "\n",
              "    .colab-df-convert:hover {\n",
              "      background-color: #E2EBFA;\n",
              "      box-shadow: 0px 1px 2px rgba(60, 64, 67, 0.3), 0px 1px 3px 1px rgba(60, 64, 67, 0.15);\n",
              "      fill: #174EA6;\n",
              "    }\n",
              "\n",
              "    [theme=dark] .colab-df-convert {\n",
              "      background-color: #3B4455;\n",
              "      fill: #D2E3FC;\n",
              "    }\n",
              "\n",
              "    [theme=dark] .colab-df-convert:hover {\n",
              "      background-color: #434B5C;\n",
              "      box-shadow: 0px 1px 3px 1px rgba(0, 0, 0, 0.15);\n",
              "      filter: drop-shadow(0px 1px 2px rgba(0, 0, 0, 0.3));\n",
              "      fill: #FFFFFF;\n",
              "    }\n",
              "  </style>\n",
              "\n",
              "      <script>\n",
              "        const buttonEl =\n",
              "          document.querySelector('#df-a3f16697-6c56-48f3-8cfd-7835c0a5e3e1 button.colab-df-convert');\n",
              "        buttonEl.style.display =\n",
              "          google.colab.kernel.accessAllowed ? 'block' : 'none';\n",
              "\n",
              "        async function convertToInteractive(key) {\n",
              "          const element = document.querySelector('#df-a3f16697-6c56-48f3-8cfd-7835c0a5e3e1');\n",
              "          const dataTable =\n",
              "            await google.colab.kernel.invokeFunction('convertToInteractive',\n",
              "                                                     [key], {});\n",
              "          if (!dataTable) return;\n",
              "\n",
              "          const docLinkHtml = 'Like what you see? Visit the ' +\n",
              "            '<a target=\"_blank\" href=https://colab.research.google.com/notebooks/data_table.ipynb>data table notebook</a>'\n",
              "            + ' to learn more about interactive tables.';\n",
              "          element.innerHTML = '';\n",
              "          dataTable['output_type'] = 'display_data';\n",
              "          await google.colab.output.renderOutput(dataTable, element);\n",
              "          const docLink = document.createElement('div');\n",
              "          docLink.innerHTML = docLinkHtml;\n",
              "          element.appendChild(docLink);\n",
              "        }\n",
              "      </script>\n",
              "    </div>\n",
              "  </div>\n",
              "  "
            ]
          },
          "metadata": {},
          "execution_count": 21
        }
      ]
    },
    {
      "cell_type": "code",
      "source": [
        "final_df.describe()"
      ],
      "metadata": {
        "colab": {
          "base_uri": "https://localhost:8080/",
          "height": 278
        },
        "id": "-9OmDvidaaFY",
        "outputId": "b70b84aa-cff5-417c-ce02-fa6809fb4517"
      },
      "execution_count": 22,
      "outputs": [
        {
          "output_type": "execute_result",
          "data": {
            "text/plain": [
              "       runtime_min        imdb   metascore      n_imdb\n",
              "count   735.000000  735.000000  735.000000  735.000000\n",
              "mean    110.727891    6.456871   56.549660   64.568707\n",
              "std      19.575800    1.001962   16.538204   10.019618\n",
              "min      60.000000    1.900000    9.000000   19.000000\n",
              "25%      97.000000    5.800000   44.000000   58.000000\n",
              "50%     108.000000    6.500000   57.000000   65.000000\n",
              "75%     121.500000    7.100000   68.000000   71.000000\n",
              "max     242.000000    8.800000   98.000000   88.000000"
            ],
            "text/html": [
              "\n",
              "  <div id=\"df-c71ed6c3-1c8e-45fb-8490-74c8d9f1f04e\">\n",
              "    <div class=\"colab-df-container\">\n",
              "      <div>\n",
              "<style scoped>\n",
              "    .dataframe tbody tr th:only-of-type {\n",
              "        vertical-align: middle;\n",
              "    }\n",
              "\n",
              "    .dataframe tbody tr th {\n",
              "        vertical-align: top;\n",
              "    }\n",
              "\n",
              "    .dataframe thead th {\n",
              "        text-align: right;\n",
              "    }\n",
              "</style>\n",
              "<table border=\"1\" class=\"dataframe\">\n",
              "  <thead>\n",
              "    <tr style=\"text-align: right;\">\n",
              "      <th></th>\n",
              "      <th>runtime_min</th>\n",
              "      <th>imdb</th>\n",
              "      <th>metascore</th>\n",
              "      <th>n_imdb</th>\n",
              "    </tr>\n",
              "  </thead>\n",
              "  <tbody>\n",
              "    <tr>\n",
              "      <th>count</th>\n",
              "      <td>735.000000</td>\n",
              "      <td>735.000000</td>\n",
              "      <td>735.000000</td>\n",
              "      <td>735.000000</td>\n",
              "    </tr>\n",
              "    <tr>\n",
              "      <th>mean</th>\n",
              "      <td>110.727891</td>\n",
              "      <td>6.456871</td>\n",
              "      <td>56.549660</td>\n",
              "      <td>64.568707</td>\n",
              "    </tr>\n",
              "    <tr>\n",
              "      <th>std</th>\n",
              "      <td>19.575800</td>\n",
              "      <td>1.001962</td>\n",
              "      <td>16.538204</td>\n",
              "      <td>10.019618</td>\n",
              "    </tr>\n",
              "    <tr>\n",
              "      <th>min</th>\n",
              "      <td>60.000000</td>\n",
              "      <td>1.900000</td>\n",
              "      <td>9.000000</td>\n",
              "      <td>19.000000</td>\n",
              "    </tr>\n",
              "    <tr>\n",
              "      <th>25%</th>\n",
              "      <td>97.000000</td>\n",
              "      <td>5.800000</td>\n",
              "      <td>44.000000</td>\n",
              "      <td>58.000000</td>\n",
              "    </tr>\n",
              "    <tr>\n",
              "      <th>50%</th>\n",
              "      <td>108.000000</td>\n",
              "      <td>6.500000</td>\n",
              "      <td>57.000000</td>\n",
              "      <td>65.000000</td>\n",
              "    </tr>\n",
              "    <tr>\n",
              "      <th>75%</th>\n",
              "      <td>121.500000</td>\n",
              "      <td>7.100000</td>\n",
              "      <td>68.000000</td>\n",
              "      <td>71.000000</td>\n",
              "    </tr>\n",
              "    <tr>\n",
              "      <th>max</th>\n",
              "      <td>242.000000</td>\n",
              "      <td>8.800000</td>\n",
              "      <td>98.000000</td>\n",
              "      <td>88.000000</td>\n",
              "    </tr>\n",
              "  </tbody>\n",
              "</table>\n",
              "</div>\n",
              "      <button class=\"colab-df-convert\" onclick=\"convertToInteractive('df-c71ed6c3-1c8e-45fb-8490-74c8d9f1f04e')\"\n",
              "              title=\"Convert this dataframe to an interactive table.\"\n",
              "              style=\"display:none;\">\n",
              "        \n",
              "  <svg xmlns=\"http://www.w3.org/2000/svg\" height=\"24px\"viewBox=\"0 0 24 24\"\n",
              "       width=\"24px\">\n",
              "    <path d=\"M0 0h24v24H0V0z\" fill=\"none\"/>\n",
              "    <path d=\"M18.56 5.44l.94 2.06.94-2.06 2.06-.94-2.06-.94-.94-2.06-.94 2.06-2.06.94zm-11 1L8.5 8.5l.94-2.06 2.06-.94-2.06-.94L8.5 2.5l-.94 2.06-2.06.94zm10 10l.94 2.06.94-2.06 2.06-.94-2.06-.94-.94-2.06-.94 2.06-2.06.94z\"/><path d=\"M17.41 7.96l-1.37-1.37c-.4-.4-.92-.59-1.43-.59-.52 0-1.04.2-1.43.59L10.3 9.45l-7.72 7.72c-.78.78-.78 2.05 0 2.83L4 21.41c.39.39.9.59 1.41.59.51 0 1.02-.2 1.41-.59l7.78-7.78 2.81-2.81c.8-.78.8-2.07 0-2.86zM5.41 20L4 18.59l7.72-7.72 1.47 1.35L5.41 20z\"/>\n",
              "  </svg>\n",
              "      </button>\n",
              "      \n",
              "  <style>\n",
              "    .colab-df-container {\n",
              "      display:flex;\n",
              "      flex-wrap:wrap;\n",
              "      gap: 12px;\n",
              "    }\n",
              "\n",
              "    .colab-df-convert {\n",
              "      background-color: #E8F0FE;\n",
              "      border: none;\n",
              "      border-radius: 50%;\n",
              "      cursor: pointer;\n",
              "      display: none;\n",
              "      fill: #1967D2;\n",
              "      height: 32px;\n",
              "      padding: 0 0 0 0;\n",
              "      width: 32px;\n",
              "    }\n",
              "\n",
              "    .colab-df-convert:hover {\n",
              "      background-color: #E2EBFA;\n",
              "      box-shadow: 0px 1px 2px rgba(60, 64, 67, 0.3), 0px 1px 3px 1px rgba(60, 64, 67, 0.15);\n",
              "      fill: #174EA6;\n",
              "    }\n",
              "\n",
              "    [theme=dark] .colab-df-convert {\n",
              "      background-color: #3B4455;\n",
              "      fill: #D2E3FC;\n",
              "    }\n",
              "\n",
              "    [theme=dark] .colab-df-convert:hover {\n",
              "      background-color: #434B5C;\n",
              "      box-shadow: 0px 1px 3px 1px rgba(0, 0, 0, 0.15);\n",
              "      filter: drop-shadow(0px 1px 2px rgba(0, 0, 0, 0.3));\n",
              "      fill: #FFFFFF;\n",
              "    }\n",
              "  </style>\n",
              "\n",
              "      <script>\n",
              "        const buttonEl =\n",
              "          document.querySelector('#df-c71ed6c3-1c8e-45fb-8490-74c8d9f1f04e button.colab-df-convert');\n",
              "        buttonEl.style.display =\n",
              "          google.colab.kernel.accessAllowed ? 'block' : 'none';\n",
              "\n",
              "        async function convertToInteractive(key) {\n",
              "          const element = document.querySelector('#df-c71ed6c3-1c8e-45fb-8490-74c8d9f1f04e');\n",
              "          const dataTable =\n",
              "            await google.colab.kernel.invokeFunction('convertToInteractive',\n",
              "                                                     [key], {});\n",
              "          if (!dataTable) return;\n",
              "\n",
              "          const docLinkHtml = 'Like what you see? Visit the ' +\n",
              "            '<a target=\"_blank\" href=https://colab.research.google.com/notebooks/data_table.ipynb>data table notebook</a>'\n",
              "            + ' to learn more about interactive tables.';\n",
              "          element.innerHTML = '';\n",
              "          dataTable['output_type'] = 'display_data';\n",
              "          await google.colab.output.renderOutput(dataTable, element);\n",
              "          const docLink = document.createElement('div');\n",
              "          docLink.innerHTML = docLinkHtml;\n",
              "          element.appendChild(docLink);\n",
              "        }\n",
              "      </script>\n",
              "    </div>\n",
              "  </div>\n",
              "  "
            ]
          },
          "metadata": {},
          "execution_count": 22
        }
      ]
    },
    {
      "cell_type": "code",
      "source": [
        "final_df.info()"
      ],
      "metadata": {
        "colab": {
          "base_uri": "https://localhost:8080/"
        },
        "id": "HfCHpznVaqRD",
        "outputId": "7f0d2b1e-405a-42e4-87eb-15fe37817165"
      },
      "execution_count": 23,
      "outputs": [
        {
          "output_type": "stream",
          "name": "stdout",
          "text": [
            "<class 'pandas.core.frame.DataFrame'>\n",
            "Int64Index: 735 entries, 0 to 735\n",
            "Data columns (total 8 columns):\n",
            " #   Column       Non-Null Count  Dtype  \n",
            "---  ------       --------------  -----  \n",
            " 0   movie        735 non-null    object \n",
            " 1   year         735 non-null    object \n",
            " 2   rating       735 non-null    object \n",
            " 3   genre        735 non-null    object \n",
            " 4   runtime_min  735 non-null    int64  \n",
            " 5   imdb         735 non-null    float64\n",
            " 6   metascore    735 non-null    int64  \n",
            " 7   n_imdb       735 non-null    float64\n",
            "dtypes: float64(2), int64(2), object(4)\n",
            "memory usage: 51.7+ KB\n"
          ]
        }
      ]
    },
    {
      "cell_type": "code",
      "source": [
        "sns.heatmap(final_df.corr(),annot=True);"
      ],
      "metadata": {
        "colab": {
          "base_uri": "https://localhost:8080/",
          "height": 271
        },
        "id": "YNA9T3opawRe",
        "outputId": "8d2a2129-617f-4835-9e69-7b5c5e3430ff"
      },
      "execution_count": 30,
      "outputs": [
        {
          "output_type": "display_data",
          "data": {
            "text/plain": [
              "<Figure size 432x288 with 2 Axes>"
            ],
            "image/png": "[encoded data removed]"
          },
          "metadata": {
            "needs_background": "light"
          }
        }
      ]
    },
    {
      "cell_type": "code",
      "source": [
        "import matplotlib.pyplot as plt\n",
        "plt.figure(figsize=(10,8))\n",
        "plt.scatter(x=final_df.n_imdb,y=final_df.metascore)\n",
        "plt.xlabel('IMDb rating Standarized')\n",
        "plt.ylabel('Metascore')\n",
        "plt.title('Metascore vs IMDb Ratings')\n",
        "plt.show();"
      ],
      "metadata": {
        "colab": {
          "base_uri": "https://localhost:8080/",
          "height": 513
        },
        "id": "PXCNVVeUbS4g",
        "outputId": "1028e01e-9e12-401b-e69d-73da458575ac"
      },
      "execution_count": 38,
      "outputs": [
        {
          "output_type": "display_data",
          "data": {
            "text/plain": [
              "<Figure size 720x576 with 1 Axes>"
            ],
            "image/png": "[encoded data removed]"
          },
          "metadata": {
            "needs_background": "light"
          }
        }
      ]
    },
    {
      "cell_type": "code",
      "source": [
        "ax=final_df['rating'].value_counts().plot(kind='bar',figsize=(12,8),title='Number of Movies by Ratings')\n",
        "ax.set_xlabel('Ratings')\n",
        "ax.set_ylabel('Number of Movies')\n",
        "ax.plot();"
      ],
      "metadata": {
        "colab": {
          "base_uri": "https://localhost:8080/",
          "height": 552
        },
        "id": "4tTcyv29ciJI",
        "outputId": "f4d33323-7233-4ba4-d294-567117c42fbe"
      },
      "execution_count": 44,
      "outputs": [
        {
          "output_type": "display_data",
          "data": {
            "text/plain": [
              "<Figure size 864x576 with 1 Axes>"
            ],
            "image/png": "[encoded data removed]"
          },
          "metadata": {
            "needs_background": "light"
          }
        }
      ]
    },
    {
      "cell_type": "code",
      "source": [
        "final_df[final_df['rating']=='Approved']"
      ],
      "metadata": {
        "colab": {
          "base_uri": "https://localhost:8080/",
          "height": 171
        },
        "id": "gL24ZdhjiOxS",
        "outputId": "fd404fa5-8482-4875-cdd4-20cdceb6dc74"
      },
      "execution_count": 47,
      "outputs": [
        {
          "output_type": "execute_result",
          "data": {
            "text/plain": [
              "                              movie  year    rating  \\\n",
              "520  Invasion of the Body Snatchers  1956  Approved   \n",
              "597                        The Blob  1958  Approved   \n",
              "647                      Rollerball  1975  Approved   \n",
              "\n",
              "                         genre  runtime_min  imdb  metascore  n_imdb  \n",
              "520  [Drama,  Horror,  Sci-Fi]           80   7.7         92    77.0  \n",
              "597          [Horror,  Sci-Fi]           86   6.3         58    63.0  \n",
              "647  [Action,  Sci-Fi,  Sport]          125   6.6         56    66.0  "
            ],
            "text/html": [
              "\n",
              "  <div id=\"df-ea6ff90d-4de5-4b37-ab04-3b6aafa8a001\">\n",
              "    <div class=\"colab-df-container\">\n",
              "      <div>\n",
              "<style scoped>\n",
              "    .dataframe tbody tr th:only-of-type {\n",
              "        vertical-align: middle;\n",
              "    }\n",
              "\n",
              "    .dataframe tbody tr th {\n",
              "        vertical-align: top;\n",
              "    }\n",
              "\n",
              "    .dataframe thead th {\n",
              "        text-align: right;\n",
              "    }\n",
              "</style>\n",
              "<table border=\"1\" class=\"dataframe\">\n",
              "  <thead>\n",
              "    <tr style=\"text-align: right;\">\n",
              "      <th></th>\n",
              "      <th>movie</th>\n",
              "      <th>year</th>\n",
              "      <th>rating</th>\n",
              "      <th>genre</th>\n",
              "      <th>runtime_min</th>\n",
              "      <th>imdb</th>\n",
              "      <th>metascore</th>\n",
              "      <th>n_imdb</th>\n",
              "    </tr>\n",
              "  </thead>\n",
              "  <tbody>\n",
              "    <tr>\n",
              "      <th>520</th>\n",
              "      <td>Invasion of the Body Snatchers</td>\n",
              "      <td>1956</td>\n",
              "      <td>Approved</td>\n",
              "      <td>[Drama,  Horror,  Sci-Fi]</td>\n",
              "      <td>80</td>\n",
              "      <td>7.7</td>\n",
              "      <td>92</td>\n",
              "      <td>77.0</td>\n",
              "    </tr>\n",
              "    <tr>\n",
              "      <th>597</th>\n",
              "      <td>The Blob</td>\n",
              "      <td>1958</td>\n",
              "      <td>Approved</td>\n",
              "      <td>[Horror,  Sci-Fi]</td>\n",
              "      <td>86</td>\n",
              "      <td>6.3</td>\n",
              "      <td>58</td>\n",
              "      <td>63.0</td>\n",
              "    </tr>\n",
              "    <tr>\n",
              "      <th>647</th>\n",
              "      <td>Rollerball</td>\n",
              "      <td>1975</td>\n",
              "      <td>Approved</td>\n",
              "      <td>[Action,  Sci-Fi,  Sport]</td>\n",
              "      <td>125</td>\n",
              "      <td>6.6</td>\n",
              "      <td>56</td>\n",
              "      <td>66.0</td>\n",
              "    </tr>\n",
              "  </tbody>\n",
              "</table>\n",
              "</div>\n",
              "      <button class=\"colab-df-convert\" onclick=\"convertToInteractive('df-ea6ff90d-4de5-4b37-ab04-3b6aafa8a001')\"\n",
              "              title=\"Convert this dataframe to an interactive table.\"\n",
              "              style=\"display:none;\">\n",
              "        \n",
              "  <svg xmlns=\"http://www.w3.org/2000/svg\" height=\"24px\"viewBox=\"0 0 24 24\"\n",
              "       width=\"24px\">\n",
              "    <path d=\"M0 0h24v24H0V0z\" fill=\"none\"/>\n",
              "    <path d=\"M18.56 5.44l.94 2.06.94-2.06 2.06-.94-2.06-.94-.94-2.06-.94 2.06-2.06.94zm-11 1L8.5 8.5l.94-2.06 2.06-.94-2.06-.94L8.5 2.5l-.94 2.06-2.06.94zm10 10l.94 2.06.94-2.06 2.06-.94-2.06-.94-.94-2.06-.94 2.06-2.06.94z\"/><path d=\"M17.41 7.96l-1.37-1.37c-.4-.4-.92-.59-1.43-.59-.52 0-1.04.2-1.43.59L10.3 9.45l-7.72 7.72c-.78.78-.78 2.05 0 2.83L4 21.41c.39.39.9.59 1.41.59.51 0 1.02-.2 1.41-.59l7.78-7.78 2.81-2.81c.8-.78.8-2.07 0-2.86zM5.41 20L4 18.59l7.72-7.72 1.47 1.35L5.41 20z\"/>\n",
              "  </svg>\n",
              "      </button>\n",
              "      \n",
              "  <style>\n",
              "    .colab-df-container {\n",
              "      display:flex;\n",
              "      flex-wrap:wrap;\n",
              "      gap: 12px;\n",
              "    }\n",
              "\n",
              "    .colab-df-convert {\n",
              "      background-color: #E8F0FE;\n",
              "      border: none;\n",
              "      border-radius: 50%;\n",
              "      cursor: pointer;\n",
              "      display: none;\n",
              "      fill: #1967D2;\n",
              "      height: 32px;\n",
              "      padding: 0 0 0 0;\n",
              "      width: 32px;\n",
              "    }\n",
              "\n",
              "    .colab-df-convert:hover {\n",
              "      background-color: #E2EBFA;\n",
              "      box-shadow: 0px 1px 2px rgba(60, 64, 67, 0.3), 0px 1px 3px 1px rgba(60, 64, 67, 0.15);\n",
              "      fill: #174EA6;\n",
              "    }\n",
              "\n",
              "    [theme=dark] .colab-df-convert {\n",
              "      background-color: #3B4455;\n",
              "      fill: #D2E3FC;\n",
              "    }\n",
              "\n",
              "    [theme=dark] .colab-df-convert:hover {\n",
              "      background-color: #434B5C;\n",
              "      box-shadow: 0px 1px 3px 1px rgba(0, 0, 0, 0.15);\n",
              "      filter: drop-shadow(0px 1px 2px rgba(0, 0, 0, 0.3));\n",
              "      fill: #FFFFFF;\n",
              "    }\n",
              "  </style>\n",
              "\n",
              "      <script>\n",
              "        const buttonEl =\n",
              "          document.querySelector('#df-ea6ff90d-4de5-4b37-ab04-3b6aafa8a001 button.colab-df-convert');\n",
              "        buttonEl.style.display =\n",
              "          google.colab.kernel.accessAllowed ? 'block' : 'none';\n",
              "\n",
              "        async function convertToInteractive(key) {\n",
              "          const element = document.querySelector('#df-ea6ff90d-4de5-4b37-ab04-3b6aafa8a001');\n",
              "          const dataTable =\n",
              "            await google.colab.kernel.invokeFunction('convertToInteractive',\n",
              "                                                     [key], {});\n",
              "          if (!dataTable) return;\n",
              "\n",
              "          const docLinkHtml = 'Like what you see? Visit the ' +\n",
              "            '<a target=\"_blank\" href=https://colab.research.google.com/notebooks/data_table.ipynb>data table notebook</a>'\n",
              "            + ' to learn more about interactive tables.';\n",
              "          element.innerHTML = '';\n",
              "          dataTable['output_type'] = 'display_data';\n",
              "          await google.colab.output.renderOutput(dataTable, element);\n",
              "          const docLink = document.createElement('div');\n",
              "          docLink.innerHTML = docLinkHtml;\n",
              "          element.appendChild(docLink);\n",
              "        }\n",
              "      </script>\n",
              "    </div>\n",
              "  </div>\n",
              "  "
            ]
          },
          "metadata": {},
          "execution_count": 47
        }
      ]
    },
    {
      "cell_type": "code",
      "source": [
        "yr=final_df['year'].value_counts().plot(kind='bar',figsize=(12,15),title='Number of Moies per year')\n",
        "yr.set_xlabel('Years')\n",
        "yr.set_ylabel('No. of Movies per year')"
      ],
      "metadata": {
        "colab": {
          "base_uri": "https://localhost:8080/",
          "height": 926
        },
        "id": "2VJqabUxkhTV",
        "outputId": "fab09ae9-e844-429a-af21-2ad980bf2401"
      },
      "execution_count": 53,
      "outputs": [
        {
          "output_type": "execute_result",
          "data": {
            "text/plain": [
              "Text(0, 0.5, 'No. of Movies per year')"
            ]
          },
          "metadata": {},
          "execution_count": 53
        },
        {
          "output_type": "display_data",
          "data": {
            "text/plain": [
              "<Figure size 864x1080 with 1 Axes>"
            ],
            "image/png": "[encoded data removed]"
          },
          "metadata": {
            "needs_background": "light"
          }
        }
      ]
    },
    {
      "cell_type": "code",
      "source": [
        "\n",
        "plt.figure(figsize=(15,10))\n",
        "sns.countplot(final_df['year'])\n",
        "plt.xticks(rotation=90)\n",
        "plt.show();"
      ],
      "metadata": {
        "colab": {
          "base_uri": "https://localhost:8080/",
          "height": 676
        },
        "id": "8nSfeFxqlX5H",
        "outputId": "aaca93e6-ef40-40cf-a85f-584448857d82"
      },
      "execution_count": 66,
      "outputs": [
        {
          "output_type": "stream",
          "name": "stderr",
          "text": [
            "/usr/local/lib/python3.7/dist-packages/seaborn/_decorators.py:43: FutureWarning: Pass the following variable as a keyword arg: x. From version 0.12, the only valid positional argument will be `data`, and passing other arguments without an explicit keyword will result in an error or misinterpretation.\n",
            "  FutureWarning\n"
          ]
        },
        {
          "output_type": "display_data",
          "data": {
            "text/plain": [
              "<Figure size 1080x720 with 1 Axes>"
            ],
            "image/png": "[encoded data removed]"
          },
          "metadata": {
            "needs_background": "light"
          }
        }
      ]
    },
    {
      "cell_type": "code",
      "source": [],
      "metadata": {
        "id": "8jXbtCj6pbdc"
      },
      "execution_count": null,
      "outputs": []
    },
    {
      "cell_type": "code",
      "source": [],
      "metadata": {
        "id": "1bZu6gEZmaF1"
      },
      "execution_count": null,
      "outputs": []
    }
  ]
}